{
  "nbformat": 4,
  "nbformat_minor": 0,
  "metadata": {
    "colab": {
      "provenance": []
    },
    "kernelspec": {
      "name": "python3",
      "display_name": "Python 3"
    },
    "language_info": {
      "name": "python"
    }
  },
  "cells": [
    {
      "cell_type": "markdown",
      "source": [
        "# 1- Instalación y Configuración Inicial"
      ],
      "metadata": {
        "id": "TwVXAIZqujs1"
      }
    },
    {
      "cell_type": "markdown",
      "source": [
        "Este primer paso prepara nuestro entorno. Instalamos las librerías necesarias para hablar con la API de Gemini y para leer archivos PDF. Luego, configuramos nuestra clave de API de forma segura."
      ],
      "metadata": {
        "id": "AfuIkreWula5"
      }
    },
    {
      "cell_type": "code",
      "execution_count": 34,
      "metadata": {
        "colab": {
          "base_uri": "https://localhost:8080/"
        },
        "id": "VKaXWppTuVN6",
        "outputId": "6baf7899-816b-42d9-f57b-cfda8ecd41c2"
      },
      "outputs": [
        {
          "output_type": "stream",
          "name": "stdout",
          "text": [
            "✅ Librerías instaladas e importadas correctamente.\n",
            "🔑 API Key de Gemini configurada exitosamente.\n"
          ]
        }
      ],
      "source": [
        "# --- PASO 0: INSTALACIÓN Y CONFIGURACIÓN ---\n",
        "\n",
        "# Instalamos las librerías necesarias de Google y para leer PDFs.\n",
        "# - google-generativeai: Es el paquete oficial de Google para usar la API de Gemini.\n",
        "# - PyPDF2: Es una librería muy popular en Python para leer y manipular archivos PDF.\n",
        "!pip install -q google-generativeai PyPDF2\n",
        "\n",
        "# Importamos las librerías que vamos a utilizar a lo largo del proyecto.\n",
        "import google.generativeai as genai\n",
        "import PyPDF2\n",
        "import os\n",
        "import glob\n",
        "from google.colab import userdata\n",
        "\n",
        "print(\"✅ Librerías instaladas e importadas correctamente.\")\n",
        "\n",
        "# --- Configuración de la API Key de Gemini ---\n",
        "# Para mantener la clave segura, la guardaremos en los \"Secrets\" de Colab como GEMINI_API_KEY\n",
        "try:\n",
        "    api_key = userdata.get('GEMINI_API_KEY')\n",
        "    genai.configure(api_key=api_key)\n",
        "    print(\"🔑 API Key de Gemini configurada exitosamente.\")\n",
        "except Exception as e:\n",
        "    print(\"🚨 Error al configurar la API Key. Asegúrate de haberla guardado correctamente en los 'Secrets' de Colab.\")\n",
        "    print(\"Error:\", e)"
      ]
    },
    {
      "cell_type": "markdown",
      "source": [
        "# 2- Creación de Carpetas y Carga de Archivos"
      ],
      "metadata": {
        "id": "1Vax2TCZuzoQ"
      }
    },
    {
      "cell_type": "markdown",
      "source": [
        "Aquí preparamos el espacio de trabajo. Creamos carpetas para organizar los PDFs y damos instrucciones claras para subir los archivos al entorno de Colab.\n"
      ],
      "metadata": {
        "id": "LU4FqepYu2wM"
      }
    },
    {
      "cell_type": "code",
      "source": [
        "# --- PASO 1: PREPARACIÓN Y CARGA DE DATOS ---\n",
        "\n",
        "print(\"📂 Creando estructura de carpetas para organizar los archivos...\")\n",
        "\n",
        "# Definimos las rutas para las carpetas que contendrán nuestros archivos PDF.\n",
        "ruta_cv = '/content/cv_base/'\n",
        "ruta_estudios = '/content/plan_de_estudios/'\n",
        "\n",
        "# Creamos las carpetas. El `exist_ok=True` evita que dé un error si la carpeta ya existe.\n",
        "os.makedirs(ruta_cv, exist_ok=True)\n",
        "os.makedirs(ruta_estudios, exist_ok=True)\n",
        "\n",
        "print(\"\\n--- INSTRUCCIONES ---\")\n",
        "print(f\"1. En el panel de archivos de la izquierda, busca la carpeta '{ruta_cv}'.\")\n",
        "print(\"2. Haz clic en los tres puntos y selecciona 'Subir'. Sube aquí el PDF de tu CV de LinkedIn.\")\n",
        "print(f\"\\n3. Ahora, busca la carpeta '{ruta_estudios}'.\")\n",
        "print(\"4. Sube a esta carpeta TODOS los archivos PDF que componen tu nuevo plan de estudios.\")\n",
        "print(\"\\nUna vez que hayas subido los archivos, ejecuta la siguiente celda.\")"
      ],
      "metadata": {
        "colab": {
          "base_uri": "https://localhost:8080/"
        },
        "id": "h5s0SKfMuryH",
        "outputId": "fb75e547-2d37-418c-f08c-f678ff0d1854"
      },
      "execution_count": 35,
      "outputs": [
        {
          "output_type": "stream",
          "name": "stdout",
          "text": [
            "📂 Creando estructura de carpetas para organizar los archivos...\n",
            "\n",
            "--- INSTRUCCIONES ---\n",
            "1. En el panel de archivos de la izquierda, busca la carpeta '/content/cv_base/'.\n",
            "2. Haz clic en los tres puntos y selecciona 'Subir'. Sube aquí el PDF de tu CV de LinkedIn.\n",
            "\n",
            "3. Ahora, busca la carpeta '/content/plan_de_estudios/'.\n",
            "4. Sube a esta carpeta TODOS los archivos PDF que componen tu nuevo plan de estudios.\n",
            "\n",
            "Una vez que hayas subido los archivos, ejecuta la siguiente celda.\n"
          ]
        }
      ]
    },
    {
      "cell_type": "markdown",
      "source": [
        "# 3- Extracción de Texto de los PDFs"
      ],
      "metadata": {
        "id": "TBaizbF7vADo"
      }
    },
    {
      "cell_type": "markdown",
      "source": [
        "Esta celda contiene la \"magia\" de la lectura. Definimos funciones para abrir los archivos PDF, extraer todo el texto de sus páginas y guardarlo en variables de Python para que Gemini pueda trabajar con él."
      ],
      "metadata": {
        "id": "WQtgfhpevBtx"
      }
    },
    {
      "cell_type": "code",
      "source": [
        "# --- PASO 2: EXTRACCIÓN DE TEXTO DE LOS ARCHIVOS PDF ---\n",
        "\n",
        "# Función para extraer texto de un ÚNICO archivo PDF.\n",
        "# Recibe la ruta al archivo, lo abre y devuelve todo su texto.\n",
        "def extraer_texto_de_pdf(ruta_pdf):\n",
        "    texto = \"\"\n",
        "    try:\n",
        "        with open(ruta_pdf, 'rb') as archivo:\n",
        "            lector = PyPDF2.PdfReader(archivo)\n",
        "            for pagina in lector.pages:\n",
        "                texto += pagina.extract_text() + \"\\n\"\n",
        "        return texto\n",
        "    except Exception as e:\n",
        "        print(f\"Error al leer el archivo {ruta_pdf}: {e}\")\n",
        "        return None\n",
        "\n",
        "# --- Extracción del CV Base ---\n",
        "# Buscamos el archivo PDF dentro de la carpeta del CV.\n",
        "try:\n",
        "    archivo_cv = glob.glob(os.path.join(ruta_cv, '*.pdf'))[0]\n",
        "    cv_base = extraer_texto_de_pdf(archivo_cv)\n",
        "    if cv_base:\n",
        "        print(f\"✅ Texto del CV extraído exitosamente del archivo: {os.path.basename(archivo_cv)}\")\n",
        "except IndexError:\n",
        "    print(\"🚨 No se encontró ningún archivo PDF en la carpeta '/content/cv_base/'. Asegúrate de haberlo subido.\")\n",
        "    cv_base = \"\"\n",
        "\n",
        "\n",
        "# --- Extracción del Plan de Estudios (de MÚLTIPLES archivos) ---\n",
        "nuevos_estudios = \"\"\n",
        "archivos_estudios = sorted(glob.glob(os.path.join(ruta_estudios, '*.pdf')))\n",
        "\n",
        "if not archivos_estudios:\n",
        "     print(\"🚨 No se encontraron archivos PDF en la carpeta '/content/plan_de_estudios/'.\")\n",
        "else:\n",
        "    print(f\"\\n📚 Procesando {len(archivos_estudios)} archivos del plan de estudios...\")\n",
        "    for archivo in archivos_estudios:\n",
        "        print(f\" - Leyendo {os.path.basename(archivo)}...\")\n",
        "        nuevos_estudios += extraer_texto_de_pdf(archivo) + \"\\n---\\n\"\n",
        "    print(\"✅ Texto del plan de estudios combinado exitosamente.\")"
      ],
      "metadata": {
        "colab": {
          "base_uri": "https://localhost:8080/"
        },
        "id": "dVtYIORxvD9_",
        "outputId": "f530eac7-a9f4-48eb-f7ea-76399e0be7bc"
      },
      "execution_count": 36,
      "outputs": [
        {
          "output_type": "stream",
          "name": "stdout",
          "text": [
            "✅ Texto del CV extraído exitosamente del archivo: cv_base.pdf\n",
            "\n",
            "📚 Procesando 13 archivos del plan de estudios...\n",
            " - Leyendo 1-Procesamiento de datos en Excel ONLINE..pdf...\n",
            " - Leyendo 10-Programa IA_ Generación de Prompts - Flex.pdf...\n",
            " - Leyendo 11-Programa IA_ Prompt Engineering para programadores - Flex.pdf...\n",
            " - Leyendo 12-Data Science III_ NLP & Deep Learning aplicado a Ciencia de Datos.pptx.pdf...\n",
            " - Leyendo 13-Looker Studio con Google Analytics 4.pdf...\n",
            " - Leyendo 2-Tableau ONLINE.pdf...\n",
            " - Leyendo 3-Data Analytics.pdf...\n",
            " - Leyendo 4-SQL.pdf...\n",
            " - Leyendo 5-Power BI.pdf...\n",
            " - Leyendo 6-Scrum - Metodologías Ágiles.pdf...\n",
            " - Leyendo 7-Python.pdf...\n",
            " - Leyendo 8-Data Science I_ Fundamentos para la Ciencia de Datos.pdf...\n",
            " - Leyendo 9-Data Science II_ Machine Learning para la Ciencia de Datos.pdf...\n",
            "✅ Texto del plan de estudios combinado exitosamente.\n"
          ]
        }
      ]
    },
    {
      "cell_type": "markdown",
      "source": [
        "# 4- Ingreso de la Descripción del Puesto"
      ],
      "metadata": {
        "id": "aq1lnBcvvJSo"
      }
    },
    {
      "cell_type": "markdown",
      "source": [
        "Este es el último dato que necesitamos. Pegar aquí la descripción completa del trabajo al que se quiere aplicar. Este texto será crucial para la fase de optimización.\n"
      ],
      "metadata": {
        "id": "W9_7wq8rvMgY"
      }
    },
    {
      "cell_type": "code",
      "source": [
        "# --- PASO 3: DEFINICIÓN DE LA FUNCIÓN DE LLAMADA Y ESTRUCTURACIÓN DEL PUESTO ---\n",
        "\n",
        "# --- Parte A: Definición de la Función de Comunicación con Gemini ---\n",
        "# MOVEMOS LA FUNCIÓN AQUÍ PARA QUE EXISTA ANTES DE USARLA.\n",
        "# Esta es la función reutilizable para llamar a la API de Gemini.\n",
        "# Incluye lógica para diagnosticar errores comunes.\n",
        "\n",
        "# Configuramos el modelo de Gemini que vamos a utilizar.\n",
        "# modelo = genai.GenerativeModel('gemini-1.5-pro-latest')\n",
        "modelo = genai.GenerativeModel('gemini-2.5-flash-lite')\n",
        "# modelo = genai.GenerativeModel('gemini-1.5-flash-latest')\n",
        "\n",
        "def generar_contenido_con_gemini(prompt):\n",
        "    print(\"\\n⏳ Enviando prompt a Gemini... (esto puede tardar unos segundos)\")\n",
        "    try:\n",
        "        respuesta = modelo.generate_content(prompt)\n",
        "        print(\"✅ Respuesta recibida de Gemini.\")\n",
        "        return respuesta.text\n",
        "    except Exception as e:\n",
        "        error_str = str(e).lower()\n",
        "        print(f\"🚨 Ocurrió un error al llamar a la API de Gemini: {e}\")\n",
        "        if \"429\" in error_str or \"quota\" in error_str:\n",
        "            print(\"\\n--- ANÁLISIS DEL ERROR DETECTADO ---\")\n",
        "            print(\"Este es un error común de 'Límite de Cuota' (Quota Limit).\")\n",
        "            print(\"Significa que has alcanzado el límite de uso de la versión gratuita de la API por hoy.\")\n",
        "            print(\"\\n**¿QUÉ HACER?**\")\n",
        "            print(\"1. **Opción Gratuita:** Esperar a que tu cuota se reinicie (generalmente a la medianoche, hora del Pacífico).\")\n",
        "            print(\"2. **Opción Inmediata:** Habilitar la facturación en tu proyecto de Google Cloud.\")\n",
        "        else:\n",
        "            print(\"\\n--- ANÁLISIS DEL ERROR ---\")\n",
        "            print(\"Este parece ser un error diferente. Revisa el mensaje anterior para más detalles.\")\n",
        "        return None\n",
        "\n",
        "# --- Parte B: Ingreso del Texto en Bruto del Puesto ---\n",
        "descripcion_puesto_bruta = \"\"\"\n",
        "Analista de Datos para Pagos Digitales\n",
        "Provincia de Buenos Aires, Argentina · hace 3 días · Más de 100 personas han hecho clic en «Solicitar»\n",
        "Promocionado por técnico de selección · Respuestas gestionadas fuera de LinkedIn\n",
        "Híbrido  Jornada completa  Algo de responsabilidad\n",
        "Requisitos\n",
        "Aptitudes asociadas al empleo\n",
        "Se han encontrado 4 aptitudes en tu perfil que coinciden con las aptitudes asociadas al anuncio de empleo. Más información\n",
        "Obtén más información sobre las coincidencias de aptitudes\n",
        "Conocimientos comerciales\n",
        "Ingeniería\n",
        "Microsoft Excel\n",
        "SQL\n",
        "Chat\n",
        "Empresas\n",
        "Finanzas\n",
        "Investigaciones de fraude\n",
        "Seguros\n",
        "Servicios financieros\n",
        "Acerca del empleo\n",
        "En Mercado Libre estamos democratizando el comercio y los servicios financieros para transformar la vida de las personas de América Latina. ¡Sumate a este propósito!\n",
        "Prevención de Fraude es la dirección de referencia interna y externa sobre todos los temas de seguridad para transacciones, dentro del ecosistema de Mercado Libre. Garantizamos la seguridad de las operaciones de las personas que utilizan nuestra plataforma, a partir de la aplicación de herramientas, modelos analítico-predictivos y tecnologías innovadoras. Somos el área de la compañía que permite asumir riesgos y crecer a una alta velocidad.\n",
        "Dentro del equipo, debemos ser capaces de co-crear productos seguros y poner en acción el profundo conocimiento del ecosistema, para encontrar las debilidades y actuar proactivamente por medio de la tecnología, los procesos y las personas, con el fin de brindar una experiencia confiable que genere valor a quienes utilizan nuestros servicios.\n",
        "Tenemos un desafío para quienes:\n",
        "Vibran energía emprendedora: se mueven por la curiosidad, nunca se rinden y se enfocan en superar sus propios límites.\n",
        "Dan el máximo porque les gusta trabajar con compromiso y dedicación.\n",
        "Viven los cambios como oportunidades y aprenden de sus errores.\n",
        "La excelencia y la ejecución son claves en su forma de hacer las cosas.\n",
        "Promueven el buen clima, aportan alegría y diversión.\n",
        "Saben cómo construir con otras personas y disfrutan trabajando en equipo.\n",
        "Imaginate emprendiendo proyectos desafiantes, dinámicos e innovadores y siendo responsable de:\n",
        "Trabajar junto a los equipos de Machine Learning, Negocio y Producto, entre otros, con el objetivo de lograr sinerias con impacto positivo en el negocio, asegurando un excelente clima laboral.\n",
        "Analizar grandes volúmenes de datos a fin de obtener insights y tomar decisiones, en pos de reducir el riesgo de fraude y generar un impacto positivo en el negocio\n",
        "Realizar análisis a nivel transaccional, para entender patrones, generar cuantificaciones e implementar soluciones que mejoren la eficiencia de nuestras acciones.\n",
        "Detectar desvíos en KPIs, buscar la causa raíz del problema e implementar cambios que reviertan la tendencia.\n",
        "Colaborar con el resto de los equipos de Prevención de Fraude para crear y robustecer los scores transaccionales para minimizar la pérdida financiera de Mercado Libre o de sus usuarios.\n",
        "Requisitos:\n",
        "Tener formación avanzada (preferentemente finalizada) en Ingeniería, Economía, Ciencias Actuariales, o carreras afines.\n",
        "Poseer conocimiento en SQL y Excel.\n",
        "Contar con conocimientos en Python, u otras herramientas de explotación y análisis de datos, así como también nociones básicas del uso de herramientas de IA (Chat GPT, Gemini, Cursor, entre otras).\n",
        "Te proponemos:\n",
        "Ser parte de una compañía con espíritu emprendedor en la que nos encanta pensar en grande y a largo plazo.\n",
        "Ser protagonista de tu desarrollo en un ambiente de oportunidades, aprendizaje, crecimiento, expansión y proyectos desafiantes.\n",
        "Compartir y aprender en equipo junto a grandes profesionales y especialistas.\n",
        "Un excelente clima de trabajo, con todo lo necesario para que vivas una gran experiencia. :)\n",
        "\"\"\"\n",
        "\n",
        "# --- Parte C: Prompt de Estructuración ---\n",
        "prompt_estructurador = f\"\"\"\n",
        "Actúa como un analista de datos experto en Recursos Humanos. Tu tarea es tomar el siguiente texto de una descripción de puesto, que está desordenado y contiene información irrelevante, y estructurarlo de forma clara y concisa.\n",
        "Tu misión es extraer la información esencial y organizarla en las siguientes secciones:\n",
        "- Título del Puesto\n",
        "- Empresa\n",
        "- Área\n",
        "- Resumen del Rol\n",
        "- Perfil Buscado (Soft Skills)\n",
        "- Responsabilidades Clave\n",
        "- Requisitos Técnicos\n",
        "**Reglas de formato:**\n",
        "1.  Usa títulos en negrita para cada sección (ej. `**Título del Puesto:**`).\n",
        "2.  Usa listas con guiones (`- `) para los puntos dentro de las secciones de perfil, responsabilidades y requisitos.\n",
        "3.  Sé conciso y elimina información superflua como \"hace 3 días\", \"Promocionado por...\", \"¡Sumate a este propósito!\", o frases genéricas de marketing que no describan el rol o los requisitos.\n",
        "4.  Si no encuentras información para una sección específica, omítela del resultado final.\n",
        "Aquí está el texto en bruto para procesar:\n",
        "---\n",
        "{descripcion_puesto_bruta}\n",
        "---\n",
        "Devuelve únicamente el texto estructurado, sin añadir comentarios ni introducciones.\n",
        "\"\"\"\n",
        "\n",
        "# --- Parte D: Ejecución y Almacenamiento ---\n",
        "print(\"⚙️ Estructurando la descripción del puesto con Gemini...\")\n",
        "\n",
        "descripcion_puesto_estructurada = generar_contenido_con_gemini(prompt_estructurador)\n",
        "descripcion_puesto = descripcion_puesto_estructurada\n",
        "\n",
        "if descripcion_puesto:\n",
        "    print(\"\\n\\n--- DESCRIPCIÓN DEL PUESTO ESTRUCTURADA ---\")\n",
        "    print(\"Gemini ha limpiado y formateado la descripción del puesto. Este es el texto que se usará para la optimización:\")\n",
        "    print(\"--------------------------------------------------\")\n",
        "    print(descripcion_puesto)\n",
        "    print(\"--------------------------------------------------\")\n",
        "    print(\"\\n✅ Descripción del puesto estructurada y guardada. ¡Listos para la alquimia!\")\n",
        "else:\n",
        "    print(\"🚨 No se pudo estructurar la descripción del puesto. El proceso se detendrá.\")"
      ],
      "metadata": {
        "colab": {
          "base_uri": "https://localhost:8080/",
          "height": 787
        },
        "id": "2Kd-xeUZd3Aw",
        "outputId": "e5084212-e158-4b07-9844-828cff49b2ef"
      },
      "execution_count": 37,
      "outputs": [
        {
          "output_type": "stream",
          "name": "stdout",
          "text": [
            "⚙️ Estructurando la descripción del puesto con Gemini...\n",
            "\n",
            "⏳ Enviando prompt a Gemini... (esto puede tardar unos segundos)\n",
            "✅ Respuesta recibida de Gemini.\n",
            "\n",
            "\n",
            "--- DESCRIPCIÓN DEL PUESTO ESTRUCTURADA ---\n",
            "Gemini ha limpiado y formateado la descripción del puesto. Este es el texto que se usará para la optimización:\n",
            "--------------------------------------------------\n",
            "**Título del Puesto:** Analista de Datos para Pagos Digitales\n",
            "\n",
            "**Empresa:** Mercado Libre\n",
            "\n",
            "**Área:** Prevención de Fraude\n",
            "\n",
            "**Resumen del Rol:**\n",
            "Analizar grandes volúmenes de datos transaccionales para obtener insights, identificar patrones, reducir el riesgo de fraude y mejorar la eficiencia operativa, colaborando con equipos de Machine Learning, Negocio y Producto para generar un impacto positivo en el negocio.\n",
            "\n",
            "**Perfil Buscado (Soft Skills):**\n",
            "- Vibran energía emprendedora (curiosidad, perseverancia, superación de límites).\n",
            "- Compromiso y dedicación.\n",
            "- Capacidad para vivir cambios como oportunidades y aprender de errores.\n",
            "- Orientación a la excelencia y ejecución.\n",
            "- Promueven buen clima laboral, aportan alegría y diversión.\n",
            "- Habilidad para construir y trabajar en equipo.\n",
            "\n",
            "**Responsabilidades Clave:**\n",
            "- Colaborar con equipos de Machine Learning, Negocio y Producto para lograr sinergias con impacto en el negocio y mantener un excelente clima laboral.\n",
            "- Analizar grandes volúmenes de datos para obtener insights y tomar decisiones que reduzcan el riesgo de fraude.\n",
            "- Realizar análisis a nivel transaccional para entender patrones, generar cuantificaciones e implementar soluciones que mejoren la eficiencia.\n",
            "- Detectar desvíos en KPIs, buscar la causa raíz de los problemas e implementar cambios para revertir tendencias.\n",
            "- Colaborar con otros equipos de Prevención de Fraude para crear y robustecer scores transaccionales y minimizar pérdidas financieras.\n",
            "\n",
            "**Requisitos Técnicos:**\n",
            "- Formación avanzada (preferentemente finalizada) en Ingeniería, Economía, Ciencias Actuariales, o carreras afines.\n",
            "- Conocimiento en SQL.\n",
            "- Conocimiento en Microsoft Excel.\n",
            "- Conocimientos en Python u otras herramientas de explotación y análisis de datos.\n",
            "- Nociones básicas del uso de herramientas de IA (Chat GPT, Gemini, Cursor, entre otras).\n",
            "--------------------------------------------------\n",
            "\n",
            "✅ Descripción del puesto estructurada y guardada. ¡Listos para la alquimia!\n"
          ]
        }
      ]
    },
    {
      "cell_type": "markdown",
      "source": [
        "# 5- El Corazón del Alquimista - Prompts y Llamada a Gemini"
      ],
      "metadata": {
        "id": "xTB9MPMPvmMx"
      }
    },
    {
      "cell_type": "markdown",
      "source": [
        "Aquí es donde definimos nuestras \"recetas alquímicas\": los prompts. Creamos las instrucciones precisas para Gemini. También definimos una función que se encargará de enviar el prompt a la IA y devolvernos su respuesta."
      ],
      "metadata": {
        "id": "UL_g4gSKvqQK"
      }
    },
    {
      "cell_type": "code",
      "source": [
        "# --- PASO 4: INGENIERÍA DE PROMPTS PARA LA CREACIÓN DEL CV ---\n",
        "\n",
        "# Aquí nos centramos en crear las plantillas de los prompts que la usarán.\n",
        "\n",
        "# --- PROMPT 1: Creación del \"CV Maestro Actualizado\" ---\n",
        "prompt_actualizacion = f\"\"\"\n",
        "Actúa como un experto redactor de CVs y orientador profesional de alto nivel.\n",
        "Tu tarea es analizar dos documentos: el CV base de un candidato y el contenido de un nuevo programa de estudios que ha completado.\n",
        "Tu misión es crear una nueva versión del CV, un \"CV Maestro\", que integre de forma profesional y coherente la nueva formación.\n",
        "No te limites a añadir una nueva sección; si es necesario, reestructura el CV, mejora la redacción del resumen profesional para reflejar las nuevas habilidades y asegúrate de que el resultado sea un documento pulido, profesional y actualizado.\n",
        "A continuación, los documentos:\n",
        "--- INICIO DEL CV BASE ---\n",
        "{cv_base}\n",
        "--- FIN DEL CV BASE ---\n",
        "--- INICIO DEL PROGRAMA DE ESTUDIOS ---\n",
        "{nuevos_estudios}\n",
        "--- FIN DEL PROGRAMA DE ESTUDIOS ---\n",
        "Devuelve únicamente el texto completo del CV actualizado, sin incluir encabezados, introducciones o comentarios adicionales. El formato debe ser texto plano.\n",
        "\"\"\"\n",
        "\n",
        "# --- PROMPT 2: Creación del \"CV Optimizado para la Búsqueda\" ---\n",
        "# Este prompt se creará dinámicamente en la siguiente celda (Paso 5),\n",
        "# una vez que tengamos el resultado del primer prompt."
      ],
      "metadata": {
        "id": "UrdF_E5Nblzl"
      },
      "execution_count": 38,
      "outputs": []
    },
    {
      "cell_type": "markdown",
      "source": [
        "# 6- Ejecución del Proceso y Obtención de Resultados\n"
      ],
      "metadata": {
        "id": "G_WfL6ySvyGc"
      }
    },
    {
      "cell_type": "markdown",
      "source": [
        "¡El gran final! Ejecutamos el flujo de trabajo. Primero, llamamos a Gemini con el primer prompt para obtener el CV Maestro. Luego, usamos ese resultado para construir el segundo prompt y volver a llamar a Gemini para obtener el CV final y optimizado. Los resultados se imprimirán en pantalla."
      ],
      "metadata": {
        "id": "Ksxs2qYrv0hD"
      }
    },
    {
      "cell_type": "code",
      "source": [
        "# --- PASO 5: EJECUCIÓN DEL PROCESO ALQUÍMICO ---\n",
        "\n",
        "# --- ETAPA 1: Generar el CV Maestro Actualizado ---\n",
        "print(\"**************************************************\")\n",
        "print(\"*     INICIANDO ETAPA 1: Creación del CV Maestro     *\")\n",
        "print(\"**************************************************\")\n",
        "\n",
        "cv_maestro_actualizado = generar_contenido_con_gemini(prompt_actualizacion)\n",
        "\n",
        "if cv_maestro_actualizado:\n",
        "    print(\"\\n\\n\\n--- SALIDA 1: CV MAESTRO ACTUALIZADO ---\")\n",
        "    print(\"Este es tu nuevo CV base, con tu formación más reciente integrada. Puedes guardarlo para futuras postulaciones.\")\n",
        "    print(\"--------------------------------------------------\")\n",
        "    print(cv_maestro_actualizado)\n",
        "    print(\"--------------------------------------------------\\n\\n\\n\")\n",
        "\n",
        "    # --- ETAPA 2: Generar el CV Optimizado para el Puesto ---\n",
        "    print(\"**************************************************\")\n",
        "    print(\"* INICIANDO ETAPA 2: Optimización para el Puesto *\")\n",
        "    print(\"**************************************************\")\n",
        "\n",
        "    # Construimos el segundo prompt AHORA, usando el resultado del primero.\n",
        "    prompt_optimizacion = f\"\"\"\n",
        "    Actúa como un 'Career Coach' y experto en reclutamiento técnico, especializado en optimizar CVs para pasar filtros ATS y destacar ante los managers de contratación.\n",
        "\n",
        "    Tu proceso de pensamiento debe ser el siguiente:\n",
        "    1.  **Análisis Comparativo del Candidato:** Primero, analiza detenidamente el 'CV Maestro' proporcionado. Identifica el nivel de seniority del candidato (Junior, Semi-Senior, Senior) en su campo principal. Luego, compáralo con la descripción del puesto. ¿El candidato está aplicando a un puesto en su mismo campo o está intentando una transición de carrera a un nuevo campo?\n",
        "    2.  **Identificación de la Estrategia:** Basado en tu análisis anterior, define la mejor estrategia.\n",
        "        *   **Si es una transición de carrera:** La estrategia es posicionar las habilidades del campo anterior como una base sólida y relevante, mientras se destacan las nuevas competencias (adquiridas por estudios o proyectos) para el nuevo campo. La honestidad sobre la falta de experiencia profesional *directa* en el nuevo rol es crucial.\n",
        "        *   **Si es en el mismo campo:** La estrategia es alinear directamente la experiencia pasada con los requisitos del puesto, utilizando las palabras clave y tecnologías de la oferta de trabajo.\n",
        "\n",
        "    **Tu Tarea Principal:**\n",
        "    Una vez completado tu análisis interno, transforma el 'CV Maestro' en una versión perfectamente alineada con la oferta de trabajo, aplicando la estrategia que identificaste.\n",
        "\n",
        "    **Reglas Críticas de Ejecución:**\n",
        "    - **No inventes experiencia:** Basa toda la información en los hechos presentes en el CV. No conviertas la formación académica o los proyectos personales en experiencia laboral profesional.\n",
        "    - **Sé preciso y honesto:** Refleja el nivel real de experiencia del candidato. El objetivo es reformular y destacar lo que ya existe para que sea más atractivo, no mentir.\n",
        "    - **Optimiza para ATS:** Integra de forma natural las palabras clave, tecnologías y habilidades (blandas y duras) de la descripción del puesto en el resumen profesional, las experiencias y la sección de habilidades.\n",
        "\n",
        "    Documentos para tu análisis:\n",
        "    --- INICIO DEL CV MAESTRO ---\n",
        "    {cv_maestro_actualizado}\n",
        "    --- FIN DEL CV MAESTRO ---\n",
        "\n",
        "    --- INICIO DE LA DESCRIPCIÓN DEL PUESTO ---\n",
        "    {descripcion_puesto}\n",
        "    --- FIN DE LA DESCRIPCIÓN DEL PUESTO ---\n",
        "\n",
        "    Devuelve como resultado final únicamente el texto del CV optimizado, listo para ser copiado y pegado en una plantilla de diseño. No incluyas comentarios, explicaciones ni encabezados.\n",
        "    \"\"\"\n",
        "\n",
        "    cv_final_optimizado = generar_contenido_con_gemini(prompt_optimizacion)\n",
        "\n",
        "    if cv_final_optimizado:\n",
        "        print(\"\\n\\n\\n--- SALIDA 2: CV FINAL OPTIMIZADO (¡LISTO PARA ENVIAR!) ---\")\n",
        "        print(\"¡Misión cumplida! Este es tu CV transformado y optimizado para la oferta de trabajo. Cópialo y pégalo en una plantilla de diseño profesional (como Canva) para darle el formato final.\")\n",
        "        print(\"==================================================\")\n",
        "        print(cv_final_optimizado)\n",
        "        print(\"==================================================\")\n",
        "else:\n",
        "    # Si la Etapa 1 falla, la variable 'cv_maestro_actualizado' estará vacía.\n",
        "    # Este bloque detiene el proceso para evitar errores y guía al usuario al diagnóstico ya impreso.\n",
        "    print(\"\\n🚨 No se pudo continuar a la Etapa 2 porque la Etapa 1 falló. Revisa el análisis del error detallado arriba para ver los siguientes pasos.\")"
      ],
      "metadata": {
        "colab": {
          "base_uri": "https://localhost:8080/",
          "height": 1000
        },
        "id": "gz_STnSB8IaC",
        "outputId": "ba9b90ca-72ea-41e8-a005-2579445ec033"
      },
      "execution_count": 39,
      "outputs": [
        {
          "output_type": "stream",
          "name": "stdout",
          "text": [
            "**************************************************\n",
            "*     INICIANDO ETAPA 1: Creación del CV Maestro     *\n",
            "**************************************************\n",
            "\n",
            "⏳ Enviando prompt a Gemini... (esto puede tardar unos segundos)\n",
            "✅ Respuesta recibida de Gemini.\n",
            "\n",
            "\n",
            "\n",
            "--- SALIDA 1: CV MAESTRO ACTUALIZADO ---\n",
            "Este es tu nuevo CV base, con tu formación más reciente integrada. Puedes guardarlo para futuras postulaciones.\n",
            "--------------------------------------------------\n",
            "Vanesa Mizrahi\n",
            "vanesarmizrahi@gmail.com | www.linkedin.com/in/vanesamizrahi | Argentina\n",
            "\n",
            "Resumen Profesional\n",
            "Profesional con sólida experiencia en desarrollo de software y una creciente especialización en Data Science y Análisis de Datos. Apasionada por la transformación de datos complejos en insights accionables y la construcción de soluciones basadas en datos. Con experiencia probada en análisis exploratorio de datos (EDA), visualización, machine learning y la aplicación de herramientas de inteligencia artificial para optimizar procesos. Busco aplicar mis habilidades técnicas y analíticas para impulsar la toma de decisiones estratégicas y resolver desafíos de negocio en un entorno dinámico.\n",
            "\n",
            "Experiencia Profesional\n",
            "\n",
            "iOS Mobile Developer en Mercado Libre | Septiembre 2021 – Presente\n",
            "Argentina\n",
            "*   (Aún no se detallan responsabilidades específicas de este rol en el CV base. Se recomienda adicionar tareas y logros concretos.)\n",
            "\n",
            "Analista Funcional | FrontEnd Developer en Ospoce | Mayo 2019 – Septiembre 2021 (2 años 5 meses)\n",
            "Argentina\n",
            "*   (Aún no se detallan responsabilidades específicas de este rol en el CV base. Se recomienda adicionar tareas y logros concretos.)\n",
            "\n",
            "Auditora Administrativa de Prestaciones de Salud | Junio 2006 – Mayo 2019 (13 años)\n",
            "Argentina\n",
            "*   Auditoría Administrativa de Facturación por Nomenclador Nacional de Prestaciones Médicas en Prácticas Ambulatorias e Internaciones.\n",
            "*   Liderazgo de equipos y confección de informes y estadísticas.\n",
            "*   Relevamiento de requerimientos, análisis y definición de procesos.\n",
            "*   Interacción con el área de sistemas, participación en implementaciones y capacitación del personal.\n",
            "\n",
            "Educación\n",
            "\n",
            "Diplomatura en Data Science | Coderhouse | Agosto 2024 – Diciembre 2025 (Cursando)\n",
            "*   **Módulos relevantes:** Fundamentos para la Ciencia de Datos, Machine Learning para la Ciencia de Datos, NLP & Deep Learning aplicado a Ciencia de Datos, Data Analytics, SQL, Power BI, Tableau, Procesamiento de Datos en Excel.\n",
            "*   **Habilidades adquiridas:** Análisis exploratorio de datos (EDA), preprocesamiento y manipulación de datos, construcción y validación de modelos de Machine Learning, visualización de datos (Python, Power BI, Tableau, Looker Studio), manejo de bases de datos relacionales (SQL), técnicas de procesamiento de lenguaje natural (NLP), fundamentos de Deep Learning, análisis de datos con Excel, y metodologías ágiles (Scrum).\n",
            "\n",
            "Desarrollo Mobile iOS | Digital House | 2018\n",
            "Desarrollo Mobile Android | Digital House | 2017\n",
            "Desarrollo Web Full Stack | Digital House | 2017\n",
            "\n",
            "Técnico en Química y Biotecnología con orientación en Genética Molecular | Instituto de Tecnología ORT | 2006 – 2008\n",
            "\n",
            "Certificaciones y Cursos Complementarios\n",
            "\n",
            "*   Curso Profesional de Git y GitHub\n",
            "*   Curso de Python Intermedio\n",
            "*   Curso Básico de Python\n",
            "*   Inteligencia Artificial: Generación de Prompts (Coderhouse)\n",
            "*   Prompt Engineering para Programadores (Coderhouse)\n",
            "\n",
            "Aptitudes Técnicas\n",
            "\n",
            "*   **Lenguajes de Programación:** Python, SQL\n",
            "*   **Data Science y Machine Learning:** Análisis Exploratorio de Datos (EDA), Modelado Predictivo, Algoritmos de Machine Learning, Feature Selection, Evaluación de Modelos.\n",
            "*   **Herramientas de Visualización y BI:** Tableau, Power BI, Looker Studio, Matplotlib, Seaborn.\n",
            "*   **Bases de Datos:** SQL, MySQL Workbench.\n",
            "*   **Herramientas de Control de Versiones:** Git, GitHub.\n",
            "*   **Inteligencia Artificial:** Prompt Engineering, Interacción con APIs (OpenAI).\n",
            "*   **Otras:** Microsoft Excel (funcionalidades avanzadas, tablas dinámicas), Metodologías Ágiles (Scrum).\n",
            "\n",
            "Proyectos Relevantes\n",
            "*   **Proyecto de Ciencia de Datos en Kaggle (Airbnb Data Analysis):** Desarrollo y publicación de un proyecto de análisis predictivo aplicando técnicas de EDA, visualización y machine learning a datos de Airbnb. (Link: https://www.kaggle.com/vanesamizrahi)\n",
            "*   **Desarrollo de Dashboards y Análisis de Datos:** Creación de reportes interactivos y automatizados utilizando Power BI y Tableau, conectando diversas fuentes de datos y aplicando storytelling para comunicar insights.\n",
            "*   **Aplicaciones de Inteligencia Artificial:** Desarrollo de prompts eficientes para interactuar con modelos de lenguaje avanzados y optimizar la escritura de código, incluyendo la integración con APIs de OpenAI y herramientas como Amazon CodeWhisperer.\n",
            "--------------------------------------------------\n",
            "\n",
            "\n",
            "\n",
            "**************************************************\n",
            "* INICIANDO ETAPA 2: Optimización para el Puesto *\n",
            "**************************************************\n",
            "\n",
            "⏳ Enviando prompt a Gemini... (esto puede tardar unos segundos)\n",
            "✅ Respuesta recibida de Gemini.\n",
            "\n",
            "\n",
            "\n",
            "--- SALIDA 2: CV FINAL OPTIMIZADO (¡LISTO PARA ENVIAR!) ---\n",
            "¡Misión cumplida! Este es tu CV transformado y optimizado para la oferta de trabajo. Cópialo y pégalo en una plantilla de diseño profesional (como Canva) para darle el formato final.\n",
            "==================================================\n",
            "Vanesa Mizrahi\n",
            "vanesarmizrahi@gmail.com | www.linkedin.com/in/vanesamizrahi | Argentina\n",
            "\n",
            "Resumen Profesional\n",
            "Profesional con experiencia en análisis de datos y desarrollo, buscando aplicar un enfoque analítico y técnico para optimizar la prevención de fraude en pagos digitales. Poseo sólidas habilidades en el análisis de grandes volúmenes de datos transaccionales, identificación de patrones y elaboración de cuantificaciones para la toma de decisiones estratégicas, alineado con la búsqueda de insights que reduzcan el riesgo y mejoren la eficiencia operativa. Mi experiencia previa en análisis funcional y mi formación en Data Science y Machine Learning, complementada con un entendimiento de herramientas de IA como ChatGPT, me permiten abordar desafíos complejos y colaborar eficazmente con equipos de Machine Learning, Negocio y Producto. Me caracterizo por mi curiosidad, perseverancia y orientación a la excelencia, buscando activamente oportunidades de aprendizaje y mejora continua.\n",
            "\n",
            "Experiencia Profesional\n",
            "\n",
            "iOS Mobile Developer en Mercado Libre | Septiembre 2021 – Presente\n",
            "Argentina\n",
            "*   [Detallar aquí responsabilidades y logros concretos, enfocándose en habilidades transferibles como resolución de problemas, análisis, y trabajo en equipo si aplica. Si no hay, omitir esta sección para este rol o indicar brevemente \"Desarrollo de aplicaciones móviles para la plataforma, colaborando en la mejora de la experiencia del usuario.\"].\n",
            "\n",
            "Analista Funcional | FrontEnd Developer en Ospoce | Mayo 2019 – Septiembre 2021 (2 años 5 meses)\n",
            "Argentina\n",
            "*   [Detallar aquí responsabilidades y logros concretos. Ejemplos: \"Análisis de requerimientos de negocio, definición de funcionalidades y especificaciones técnicas.\", \"Colaboración con equipos de desarrollo y stakeholders para la implementación de soluciones.\", \"Participación en el relevamiento, análisis y definición de procesos de negocio.\"].\n",
            "\n",
            "Auditora Administrativa de Prestaciones de Salud | Junio 2006 – Mayo 2019 (13 años)\n",
            "Argentina\n",
            "*   Auditoría Administrativa de Facturación por Nomenclador Nacional de Prestaciones Médicas en Prácticas Ambulatorias e Internaciones, identificando desvíos y optimizando procesos.\n",
            "*   Liderazgo de equipos, confección de informes y estadísticas para la toma de decisiones estratégicas.\n",
            "*   Relevamiento de requerimientos, análisis y definición de procesos, demostrando capacidad para entender y mejorar flujos de trabajo.\n",
            "*   Interacción con el área de sistemas, participación en implementaciones y capacitación del personal, facilitando la adopción de nuevas herramientas y metodologías.\n",
            "\n",
            "Educación\n",
            "\n",
            "Diplomatura en Data Science | Coderhouse | Agosto 2024 – Diciembre 2025 (Cursando)\n",
            "*   **Módulos:** Fundamentos para la Ciencia de Datos, Machine Learning, NLP & Deep Learning, Data Analytics, SQL, Power BI, Tableau, Procesamiento de Datos en Excel.\n",
            "*   **Habilidades Adquiridas:** Análisis Exploratorio de Datos (EDA), preprocesamiento y manipulación de datos, construcción y validación de modelos de Machine Learning, visualización de datos (Python, Power BI, Tableau, Looker Studio), manejo de bases de datos relacionales (SQL), procesamiento de lenguaje natural (NLP), análisis de datos con Excel, metodologías ágiles (Scrum).\n",
            "\n",
            "Desarrollo Mobile iOS | Digital House | 2018\n",
            "Desarrollo Mobile Android | Digital House | 2017\n",
            "Desarrollo Web Full Stack | Digital House | 2017\n",
            "\n",
            "Técnico en Química y Biotecnología con orientación en Genética Molecular | Instituto de Tecnología ORT | 2006 – 2008\n",
            "\n",
            "Certificaciones y Cursos Complementarios\n",
            "*   Curso Profesional de Git y GitHub\n",
            "*   Curso de Python Intermedio\n",
            "*   Curso Básico de Python\n",
            "*   Inteligencia Artificial: Generación de Prompts (Coderhouse)\n",
            "*   Prompt Engineering para Programadores (Coderhouse)\n",
            "\n",
            "Aptitudes Técnicas\n",
            "*   **Análisis de Datos y BI:** SQL, Microsoft Excel (funcionalidades avanzadas, tablas dinámicas), Tableau, Power BI, Looker Studio, Matplotlib, Seaborn.\n",
            "*   **Lenguajes de Programación:** Python.\n",
            "*   **Machine Learning:** Análisis Exploratorio de Datos (EDA), Modelado Predictivo, Algoritmos de Machine Learning, Feature Selection, Evaluación de Modelos.\n",
            "*   **Inteligencia Artificial:** Prompt Engineering, Interacción con APIs (OpenAI).\n",
            "*   **Herramientas de Control de Versiones:** Git, GitHub.\n",
            "*   **Metodologías:** Scrum.\n",
            "==================================================\n"
          ]
        }
      ]
    },
    {
      "cell_type": "markdown",
      "source": [
        "# Generación de PDFs"
      ],
      "metadata": {
        "id": "PDsfVSKgUnvk"
      }
    },
    {
      "cell_type": "markdown",
      "source": [
        "### Funcionalidad Automática\n",
        "Generación automáticamente documentos PDF de los CVs generados:\n",
        "\n",
        "- **CV Maestro Actualizado**: PDF del CV base con la nueva formación integrada\n",
        "- **CV Final Optimizado**: PDF del CV optimizado para el puesto específico"
      ],
      "metadata": {
        "id": "Z9sbfJgkUxGu"
      }
    },
    {
      "cell_type": "code",
      "metadata": {
        "colab": {
          "base_uri": "https://localhost:8080/"
        },
        "id": "829398d9",
        "outputId": "e970524b-3a34-4d24-9a70-191ad35ff7fd"
      },
      "source": [
        "!pip install reportlab"
      ],
      "execution_count": 40,
      "outputs": [
        {
          "output_type": "stream",
          "name": "stdout",
          "text": [
            "Requirement already satisfied: reportlab in /usr/local/lib/python3.12/dist-packages (4.4.3)\n",
            "Requirement already satisfied: pillow>=9.0.0 in /usr/local/lib/python3.12/dist-packages (from reportlab) (11.3.0)\n",
            "Requirement already satisfied: charset-normalizer in /usr/local/lib/python3.12/dist-packages (from reportlab) (3.4.3)\n"
          ]
        }
      ]
    },
    {
      "cell_type": "code",
      "source": [
        "#!/usr/bin/env python3\n",
        "# -*- coding: utf-8 -*-\n",
        "\"\"\"\n",
        "Generador de PDFs para CV-Alchemist\n",
        "====================================\n",
        "\n",
        "Este script genera PDFs de los CVs generados por el sistema CV-Alchemist.\n",
        "Se puede usar después de ejecutar el notebook principal para crear documentos\n",
        "descargables de los CVs generados.\n",
        "\n",
        "Uso:\n",
        "    python generador_pdfs.py\n",
        "\"\"\"\n",
        "\n",
        "import os\n",
        "import datetime\n",
        "from reportlab.lib.pagesizes import A4\n",
        "from reportlab.platypus import SimpleDocTemplate, Paragraph, Spacer\n",
        "from reportlab.lib.styles import getSampleStyleSheet, ParagraphStyle\n",
        "from reportlab.lib.enums import TA_LEFT, TA_JUSTIFY\n",
        "\n",
        "def generar_pdf(texto, nombre_archivo, titulo):\n",
        "    \"\"\"\n",
        "    Genera un PDF a partir del texto proporcionado.\n",
        "\n",
        "    Args:\n",
        "        texto (str): El texto del CV a convertir\n",
        "        nombre_archivo (str): Ruta del archivo PDF a generar\n",
        "        titulo (str): Título del documento\n",
        "    \"\"\"\n",
        "    doc = SimpleDocTemplate(nombre_archivo, pagesize=A4)\n",
        "    story = []\n",
        "\n",
        "    # Estilos\n",
        "    styles = getSampleStyleSheet()\n",
        "    title_style = ParagraphStyle(\n",
        "        'CustomTitle',\n",
        "        parent=styles['Heading1'],\n",
        "        fontSize=16,\n",
        "        spaceAfter=30,\n",
        "        alignment=TA_LEFT\n",
        "    )\n",
        "    normal_style = ParagraphStyle(\n",
        "        'CustomNormal',\n",
        "        parent=styles['Normal'],\n",
        "        fontSize=11,\n",
        "        spaceAfter=12,\n",
        "        alignment=TA_JUSTIFY\n",
        "    )\n",
        "\n",
        "    # Título del documento\n",
        "    story.append(Paragraph(titulo, title_style))\n",
        "    story.append(Spacer(1, 20))\n",
        "\n",
        "    # Dividir el texto en párrafos y procesar\n",
        "    parrafos = texto.split('\\n\\n')\n",
        "    for parrafo in parrafos:\n",
        "        if parrafo.strip():\n",
        "            # Limpiar el texto de caracteres especiales\n",
        "            parrafo_limpio = parrafo.strip().replace('*', '').replace('**', '')\n",
        "            story.append(Paragraph(parrafo_limpio, normal_style))\n",
        "            story.append(Spacer(1, 10))\n",
        "\n",
        "    # Generar PDF\n",
        "    doc.build(story)\n",
        "    print(f\"✅ PDF generado: {nombre_archivo}\")\n",
        "\n",
        "def generar_pdfs_cv(cv_maestro_actualizado, cv_final_optimizado, carpeta_salida=\"cvs_generados\"):\n",
        "    \"\"\"\n",
        "    Genera PDFs de ambos CVs generados.\n",
        "\n",
        "    Args:\n",
        "        cv_maestro_actualizado (str): Texto del CV maestro actualizado\n",
        "        cv_final_optimizado (str): Texto del CV final optimizado\n",
        "        carpeta_salida (str): Carpeta donde guardar los PDFs\n",
        "    \"\"\"\n",
        "    try:\n",
        "        # Creamos carpeta para los PDFs generados\n",
        "        os.makedirs(carpeta_salida, exist_ok=True)\n",
        "\n",
        "        # Generar PDF del CV Maestro\n",
        "        timestamp = datetime.datetime.now().strftime(\"%Y%m%d_%H%M%S\")\n",
        "        pdf_cv_maestro = os.path.join(carpeta_salida, f'CV_Maestro_Actualizado_{timestamp}.pdf')\n",
        "        generar_pdf(cv_maestro_actualizado, pdf_cv_maestro, \"CV Maestro Actualizado\")\n",
        "\n",
        "        # Generar PDF del CV Final Optimizado\n",
        "        pdf_cv_final = os.path.join(carpeta_salida, f'CV_Final_Optimizado_{timestamp}.pdf')\n",
        "        generar_pdf(cv_final_optimizado, pdf_cv_final, \"CV Final Optimizado\")\n",
        "\n",
        "        print(f\"\\n🎉 ¡PDFs generados exitosamente!\")\n",
        "        print(f\"📁 Ubicación: {carpeta_salida}/\")\n",
        "        print(f\"📄 Archivos generados:\")\n",
        "        print(f\"   - {os.path.basename(pdf_cv_maestro)}\")\n",
        "        print(f\"   - {os.path.basename(pdf_cv_final)}\")\n",
        "\n",
        "        return pdf_cv_maestro, pdf_cv_final\n",
        "\n",
        "    except Exception as e:\n",
        "        print(f\"⚠️ Error al generar PDFs: {e}\")\n",
        "        return None, None\n",
        "\n",
        "def main():\n",
        "    \"\"\"\n",
        "    Función principal para demostrar el uso del generador de PDFs.\n",
        "    \"\"\"\n",
        "    print(\"📄 Generador de PDFs para CV-Alchemist\")\n",
        "    print(\"=\" * 50)\n",
        "\n",
        "    # Ejemplo de uso (reemplaza con tus CVs reales)\n",
        "    cv_maestro_ejemplo = \"\"\"\n",
        "Vanesa Mizrahi\n",
        "vanesarmizrahi@gmail.com\n",
        "www.linkedin.com/in/vanesamizrahi\n",
        "\n",
        "**Resumen Profesional**\n",
        "\n",
        "Enthusiasta de la ciencia de datos con experiencia en desarrollo de software y análisis funcional, con un sólido background en auditoría y profundos conocimientos en análisis exploratorio de datos (EDA), visualización de datos y machine learning. He completado recientemente una diplomatura en Data Science en Coderhouse y adquirido nuevas habilidades en el procesamiento de datos con Excel, incluyendo el uso de tablas dinámicas, funciones avanzadas y la creación de dashboards.\n",
        "\"\"\"\n",
        "\n",
        "    cv_final_ejemplo = \"\"\"\n",
        "Vanesa Mizrahi\n",
        "vanesarmizrahi@gmail.com\n",
        "www.linkedin.com/in/vanesamizrahi\n",
        "\n",
        "**Resumen Profesional**\n",
        "\n",
        "Analista de datos con sólida formación en Data Science y experiencia en desarrollo de software, especializada en análisis exploratorio de datos (EDA), visualización de datos y machine learning. Graduada de la Diplomatura en Data Science de Coderhouse con dominio en Excel, SQL, Python, Power BI, Tableau y herramientas de IA. Experiencia en ingeniería de prompts y automatización de procesos. Busco aplicar mis habilidades analíticas y técnicas en un rol de Analista de Datos.\n",
        "\"\"\"\n",
        "\n",
        "    print(\"🔧 Generando PDFs de ejemplo...\")\n",
        "    generar_pdfs_cv(cv_maestro_ejemplo, cv_final_ejemplo)\n",
        "\n",
        "    print(\"\\n💡 Para usar con tus CVs reales:\")\n",
        "    print(\"1. Reemplaza las variables cv_maestro_ejemplo y cv_final_ejemplo\")\n",
        "    print(\"2. Con los textos de tus CVs generados por CV-Alchemist\")\n",
        "    print(\"3. Ejecuta: generar_pdfs_cv(tu_cv_maestro, tu_cv_final)\")\n",
        "\n",
        "if __name__ == \"__main__\":\n",
        "    main()"
      ],
      "metadata": {
        "colab": {
          "base_uri": "https://localhost:8080/"
        },
        "id": "u3CR_b7yNyYi",
        "outputId": "6b9abeab-2b7b-421c-ba49-f87cd42db7af"
      },
      "execution_count": 41,
      "outputs": [
        {
          "output_type": "stream",
          "name": "stdout",
          "text": [
            "📄 Generador de PDFs para CV-Alchemist\n",
            "==================================================\n",
            "🔧 Generando PDFs de ejemplo...\n",
            "✅ PDF generado: cvs_generados/CV_Maestro_Actualizado_20250831_180528.pdf\n",
            "✅ PDF generado: cvs_generados/CV_Final_Optimizado_20250831_180528.pdf\n",
            "\n",
            "🎉 ¡PDFs generados exitosamente!\n",
            "📁 Ubicación: cvs_generados/\n",
            "📄 Archivos generados:\n",
            "   - CV_Maestro_Actualizado_20250831_180528.pdf\n",
            "   - CV_Final_Optimizado_20250831_180528.pdf\n",
            "\n",
            "💡 Para usar con tus CVs reales:\n",
            "1. Reemplaza las variables cv_maestro_ejemplo y cv_final_ejemplo\n",
            "2. Con los textos de tus CVs generados por CV-Alchemist\n",
            "3. Ejecuta: generar_pdfs_cv(tu_cv_maestro, tu_cv_final)\n"
          ]
        }
      ]
    },
    {
      "cell_type": "code",
      "metadata": {
        "colab": {
          "base_uri": "https://localhost:8080/"
        },
        "id": "eed0d6d4",
        "outputId": "64dfb80e-f0fc-40af-bea8-fbdb877c689a"
      },
      "source": [
        "# Call the function to generate PDFs using the actual generated CVs\n",
        "generar_pdfs_cv(cv_maestro_actualizado, cv_final_optimizado)"
      ],
      "execution_count": 42,
      "outputs": [
        {
          "output_type": "stream",
          "name": "stdout",
          "text": [
            "✅ PDF generado: cvs_generados/CV_Maestro_Actualizado_20250831_180528.pdf\n",
            "✅ PDF generado: cvs_generados/CV_Final_Optimizado_20250831_180528.pdf\n",
            "\n",
            "🎉 ¡PDFs generados exitosamente!\n",
            "📁 Ubicación: cvs_generados/\n",
            "📄 Archivos generados:\n",
            "   - CV_Maestro_Actualizado_20250831_180528.pdf\n",
            "   - CV_Final_Optimizado_20250831_180528.pdf\n"
          ]
        },
        {
          "output_type": "execute_result",
          "data": {
            "text/plain": [
              "('cvs_generados/CV_Maestro_Actualizado_20250831_180528.pdf',\n",
              " 'cvs_generados/CV_Final_Optimizado_20250831_180528.pdf')"
            ]
          },
          "metadata": {},
          "execution_count": 42
        }
      ]
    }
  ]
}