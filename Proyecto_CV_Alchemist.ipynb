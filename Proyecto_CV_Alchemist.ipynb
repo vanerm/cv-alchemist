{
  "nbformat": 4,
  "nbformat_minor": 0,
  "metadata": {
    "colab": {
      "provenance": []
    },
    "kernelspec": {
      "name": "python3",
      "display_name": "Python 3"
    },
    "language_info": {
      "name": "python"
    }
  },
  "cells": [
    {
      "cell_type": "markdown",
      "source": [
        "# 1- Instalación y Configuración Inicial"
      ],
      "metadata": {
        "id": "TwVXAIZqujs1"
      }
    },
    {
      "cell_type": "markdown",
      "source": [
        "Este primer paso prepara nuestro entorno. Instalamos las librerías necesarias para hablar con la API de Gemini y para leer archivos PDF. Luego, configuramos nuestra clave de API de forma segura."
      ],
      "metadata": {
        "id": "AfuIkreWula5"
      }
    },
    {
      "cell_type": "code",
      "execution_count": null,
      "metadata": {
        "colab": {
          "base_uri": "https://localhost:8080/"
        },
        "id": "VKaXWppTuVN6",
        "outputId": "99767916-e7b7-4899-9302-3150c1e7f816"
      },
      "outputs": [
        {
          "output_type": "stream",
          "name": "stdout",
          "text": [
            "\u001b[?25l   \u001b[90m━━━━━━━━━━━━━━━━━━━━━━━━━━━━━━━━━━━━━━━━\u001b[0m \u001b[32m0.0/232.6 kB\u001b[0m \u001b[31m?\u001b[0m eta \u001b[36m-:--:--\u001b[0m\r\u001b[2K   \u001b[91m━━━━━━━━━━━━━━━━━━━━━━━━━━━━━━━━━━━━━━\u001b[0m\u001b[91m╸\u001b[0m\u001b[90m━\u001b[0m \u001b[32m225.3/232.6 kB\u001b[0m \u001b[31m6.3 MB/s\u001b[0m eta \u001b[36m0:00:01\u001b[0m\r\u001b[2K   \u001b[90m━━━━━━━━━━━━━━━━━━━━━━━━━━━━━━━━━━━━━━━━\u001b[0m \u001b[32m232.6/232.6 kB\u001b[0m \u001b[31m4.6 MB/s\u001b[0m eta \u001b[36m0:00:00\u001b[0m\n",
            "\u001b[?25h✅ Librerías instaladas e importadas correctamente.\n",
            "🔑 API Key de Gemini configurada exitosamente.\n"
          ]
        }
      ],
      "source": [
        "# --- PASO 0: INSTALACIÓN Y CONFIGURACIÓN ---\n",
        "\n",
        "# Instalamos las librerías necesarias de Google y para leer PDFs.\n",
        "# - google-generativeai: Es el paquete oficial de Google para usar la API de Gemini.\n",
        "# - PyPDF2: Es una librería muy popular en Python para leer y manipular archivos PDF.\n",
        "!pip install -q google-generativeai PyPDF2\n",
        "\n",
        "# Importamos las librerías que vamos a utilizar a lo largo del proyecto.\n",
        "import google.generativeai as genai\n",
        "import PyPDF2\n",
        "import os\n",
        "import glob\n",
        "from google.colab import userdata\n",
        "\n",
        "print(\"✅ Librerías instaladas e importadas correctamente.\")\n",
        "\n",
        "# --- Configuración de la API Key de Gemini ---\n",
        "# Para mantener la clave segura, la guardaremos en los \"Secrets\" de Colab como GEMINI_API_KEY\n",
        "try:\n",
        "    api_key = userdata.get('GEMINI_API_KEY')\n",
        "    genai.configure(api_key=api_key)\n",
        "    print(\"🔑 API Key de Gemini configurada exitosamente.\")\n",
        "except Exception as e:\n",
        "    print(\"🚨 Error al configurar la API Key. Asegúrate de haberla guardado correctamente en los 'Secrets' de Colab.\")\n",
        "    print(\"Error:\", e)"
      ]
    },
    {
      "cell_type": "markdown",
      "source": [
        "# 2- Creación de Carpetas y Carga de Archivos"
      ],
      "metadata": {
        "id": "1Vax2TCZuzoQ"
      }
    },
    {
      "cell_type": "markdown",
      "source": [
        "Aquí preparamos el espacio de trabajo. Creamos carpetas para organizar los PDFs y damos instrucciones claras para subir los archivos al entorno de Colab.\n"
      ],
      "metadata": {
        "id": "LU4FqepYu2wM"
      }
    },
    {
      "cell_type": "code",
      "source": [
        "# --- PASO 1: PREPARACIÓN Y CARGA DE DATOS ---\n",
        "\n",
        "print(\"📂 Creando estructura de carpetas para organizar los archivos...\")\n",
        "\n",
        "# Definimos las rutas para las carpetas que contendrán nuestros archivos PDF.\n",
        "ruta_cv = '/content/cv_base/'\n",
        "ruta_estudios = '/content/plan_de_estudios/'\n",
        "\n",
        "# Creamos las carpetas. El `exist_ok=True` evita que dé un error si la carpeta ya existe.\n",
        "os.makedirs(ruta_cv, exist_ok=True)\n",
        "os.makedirs(ruta_estudios, exist_ok=True)\n",
        "\n",
        "print(\"\\n--- INSTRUCCIONES ---\")\n",
        "print(f\"1. En el panel de archivos de la izquierda, busca la carpeta '{ruta_cv}'.\")\n",
        "print(\"2. Haz clic en los tres puntos y selecciona 'Subir'. Sube aquí el PDF de tu CV de LinkedIn.\")\n",
        "print(f\"\\n3. Ahora, busca la carpeta '{ruta_estudios}'.\")\n",
        "print(\"4. Sube a esta carpeta TODOS los archivos PDF que componen tu nuevo plan de estudios.\")\n",
        "print(\"\\nUna vez que hayas subido los archivos, ejecuta la siguiente celda.\")"
      ],
      "metadata": {
        "colab": {
          "base_uri": "https://localhost:8080/"
        },
        "id": "h5s0SKfMuryH",
        "outputId": "bf345b8a-c840-4622-fa10-52bf38feda54"
      },
      "execution_count": null,
      "outputs": [
        {
          "output_type": "stream",
          "name": "stdout",
          "text": [
            "📂 Creando estructura de carpetas para organizar los archivos...\n",
            "\n",
            "--- INSTRUCCIONES ---\n",
            "1. En el panel de archivos de la izquierda, busca la carpeta '/content/cv_base/'.\n",
            "2. Haz clic en los tres puntos y selecciona 'Subir'. Sube aquí el PDF de tu CV de LinkedIn.\n",
            "\n",
            "3. Ahora, busca la carpeta '/content/plan_de_estudios/'.\n",
            "4. Sube a esta carpeta TODOS los archivos PDF que componen tu nuevo plan de estudios.\n",
            "\n",
            "Una vez que hayas subido los archivos, ejecuta la siguiente celda.\n"
          ]
        }
      ]
    },
    {
      "cell_type": "markdown",
      "source": [
        "# 3- Extracción de Texto de los PDFs"
      ],
      "metadata": {
        "id": "TBaizbF7vADo"
      }
    },
    {
      "cell_type": "markdown",
      "source": [
        "Esta celda contiene la \"magia\" de la lectura. Definimos funciones para abrir los archivos PDF, extraer todo el texto de sus páginas y guardarlo en variables de Python para que Gemini pueda trabajar con él."
      ],
      "metadata": {
        "id": "WQtgfhpevBtx"
      }
    },
    {
      "cell_type": "code",
      "source": [
        "# --- PASO 2: EXTRACCIÓN DE TEXTO DE LOS ARCHIVOS PDF ---\n",
        "\n",
        "# Función para extraer texto de un ÚNICO archivo PDF.\n",
        "# Recibe la ruta al archivo, lo abre y devuelve todo su texto.\n",
        "def extraer_texto_de_pdf(ruta_pdf):\n",
        "    texto = \"\"\n",
        "    try:\n",
        "        with open(ruta_pdf, 'rb') as archivo:\n",
        "            lector = PyPDF2.PdfReader(archivo)\n",
        "            for pagina in lector.pages:\n",
        "                texto += pagina.extract_text() + \"\\n\"\n",
        "        return texto\n",
        "    except Exception as e:\n",
        "        print(f\"Error al leer el archivo {ruta_pdf}: {e}\")\n",
        "        return None\n",
        "\n",
        "# --- Extracción del CV Base ---\n",
        "# Buscamos el archivo PDF dentro de la carpeta del CV.\n",
        "try:\n",
        "    archivo_cv = glob.glob(os.path.join(ruta_cv, '*.pdf'))[0]\n",
        "    cv_base = extraer_texto_de_pdf(archivo_cv)\n",
        "    if cv_base:\n",
        "        print(f\"✅ Texto del CV extraído exitosamente del archivo: {os.path.basename(archivo_cv)}\")\n",
        "except IndexError:\n",
        "    print(\"🚨 No se encontró ningún archivo PDF en la carpeta '/content/cv_base/'. Asegúrate de haberlo subido.\")\n",
        "    cv_base = \"\"\n",
        "\n",
        "\n",
        "# --- Extracción del Plan de Estudios (de MÚLTIPLES archivos) ---\n",
        "nuevos_estudios = \"\"\n",
        "archivos_estudios = sorted(glob.glob(os.path.join(ruta_estudios, '*.pdf')))\n",
        "\n",
        "if not archivos_estudios:\n",
        "     print(\"🚨 No se encontraron archivos PDF en la carpeta '/content/plan_de_estudios/'.\")\n",
        "else:\n",
        "    print(f\"\\n📚 Procesando {len(archivos_estudios)} archivos del plan de estudios...\")\n",
        "    for archivo in archivos_estudios:\n",
        "        print(f\" - Leyendo {os.path.basename(archivo)}...\")\n",
        "        nuevos_estudios += extraer_texto_de_pdf(archivo) + \"\\n---\\n\"\n",
        "    print(\"✅ Texto del plan de estudios combinado exitosamente.\")"
      ],
      "metadata": {
        "colab": {
          "base_uri": "https://localhost:8080/"
        },
        "id": "dVtYIORxvD9_",
        "outputId": "c9741bd6-ab93-4ee5-8b8a-a8eadb6f0dc2"
      },
      "execution_count": null,
      "outputs": [
        {
          "output_type": "stream",
          "name": "stdout",
          "text": [
            "✅ Texto del CV extraído exitosamente del archivo: cv_base.pdf\n",
            "\n",
            "📚 Procesando 13 archivos del plan de estudios...\n",
            " - Leyendo 1-Procesamiento de datos en Excel ONLINE..pdf...\n",
            " - Leyendo 10-Programa IA_ Generación de Prompts - Flex.pdf...\n",
            " - Leyendo 11-Programa IA_ Prompt Engineering para programadores - Flex.pdf...\n",
            " - Leyendo 12-Data Science III_ NLP & Deep Learning aplicado a Ciencia de Datos.pptx.pdf...\n",
            " - Leyendo 13-Looker Studio con Google Analytics 4.pdf...\n",
            " - Leyendo 2-Tableau ONLINE.pdf...\n",
            " - Leyendo 3-Data Analytics.pdf...\n",
            " - Leyendo 4-SQL.pdf...\n",
            " - Leyendo 5-Power BI.pdf...\n",
            " - Leyendo 6-Scrum - Metodologías Ágiles.pdf...\n",
            " - Leyendo 7-Python.pdf...\n",
            " - Leyendo 8-Data Science I_ Fundamentos para la Ciencia de Datos.pdf...\n",
            " - Leyendo 9-Data Science II_ Machine Learning para la Ciencia de Datos.pdf...\n",
            "✅ Texto del plan de estudios combinado exitosamente.\n"
          ]
        }
      ]
    },
    {
      "cell_type": "markdown",
      "source": [
        "# 4- Ingreso de la Descripción del Puesto"
      ],
      "metadata": {
        "id": "aq1lnBcvvJSo"
      }
    },
    {
      "cell_type": "markdown",
      "source": [
        "Este es el último dato que necesitamos. Pegar aquí la descripción completa del trabajo al que se quiere aplicar. Este texto será crucial para la fase de optimización.\n"
      ],
      "metadata": {
        "id": "W9_7wq8rvMgY"
      }
    },
    {
      "cell_type": "code",
      "source": [
        "# --- PASO 3: DEFINICIÓN DE LA FUNCIÓN DE LLAMADA Y ESTRUCTURACIÓN DEL PUESTO ---\n",
        "\n",
        "# --- Parte A: Definición de la Función de Comunicación con Gemini ---\n",
        "# MOVEMOS LA FUNCIÓN AQUÍ PARA QUE EXISTA ANTES DE USARLA.\n",
        "# Esta es la función reutilizable para llamar a la API de Gemini.\n",
        "# Incluye lógica para diagnosticar errores comunes.\n",
        "\n",
        "# Configuramos el modelo de Gemini que vamos a utilizar.\n",
        "# modelo = genai.GenerativeModel('gemini-1.5-pro-latest')\n",
        "# modelo = genai.GenerativeModel('gemini-2.5-flash-lite')\n",
        "modelo = genai.GenerativeModel('gemini-1.5-flash-latest')\n",
        "\n",
        "def generar_contenido_con_gemini(prompt):\n",
        "    print(\"\\n⏳ Enviando prompt a Gemini... (esto puede tardar unos segundos)\")\n",
        "    try:\n",
        "        respuesta = modelo.generate_content(prompt)\n",
        "        print(\"✅ Respuesta recibida de Gemini.\")\n",
        "        return respuesta.text\n",
        "    except Exception as e:\n",
        "        error_str = str(e).lower()\n",
        "        print(f\"🚨 Ocurrió un error al llamar a la API de Gemini: {e}\")\n",
        "        if \"429\" in error_str or \"quota\" in error_str:\n",
        "            print(\"\\n--- ANÁLISIS DEL ERROR DETECTADO ---\")\n",
        "            print(\"Este es un error común de 'Límite de Cuota' (Quota Limit).\")\n",
        "            print(\"Significa que has alcanzado el límite de uso de la versión gratuita de la API por hoy.\")\n",
        "            print(\"\\n**¿QUÉ HACER?**\")\n",
        "            print(\"1. **Opción Gratuita:** Esperar a que tu cuota se reinicie (generalmente a la medianoche, hora del Pacífico).\")\n",
        "            print(\"2. **Opción Inmediata:** Habilitar la facturación en tu proyecto de Google Cloud.\")\n",
        "        else:\n",
        "            print(\"\\n--- ANÁLISIS DEL ERROR ---\")\n",
        "            print(\"Este parece ser un error diferente. Revisa el mensaje anterior para más detalles.\")\n",
        "        return None\n",
        "\n",
        "# --- Parte B: Ingreso del Texto en Bruto del Puesto ---\n",
        "descripcion_puesto_bruta = \"\"\"\n",
        "Analista de Datos para Pagos Digitales\n",
        "Provincia de Buenos Aires, Argentina · hace 3 días · Más de 100 personas han hecho clic en «Solicitar»\n",
        "Promocionado por técnico de selección · Respuestas gestionadas fuera de LinkedIn\n",
        "Híbrido  Jornada completa  Algo de responsabilidad\n",
        "Requisitos\n",
        "Aptitudes asociadas al empleo\n",
        "Se han encontrado 4 aptitudes en tu perfil que coinciden con las aptitudes asociadas al anuncio de empleo. Más información\n",
        "Obtén más información sobre las coincidencias de aptitudes\n",
        "Conocimientos comerciales\n",
        "Ingeniería\n",
        "Microsoft Excel\n",
        "SQL\n",
        "Chat\n",
        "Empresas\n",
        "Finanzas\n",
        "Investigaciones de fraude\n",
        "Seguros\n",
        "Servicios financieros\n",
        "Acerca del empleo\n",
        "En Mercado Libre estamos democratizando el comercio y los servicios financieros para transformar la vida de las personas de América Latina. ¡Sumate a este propósito!\n",
        "Prevención de Fraude es la dirección de referencia interna y externa sobre todos los temas de seguridad para transacciones, dentro del ecosistema de Mercado Libre. Garantizamos la seguridad de las operaciones de las personas que utilizan nuestra plataforma, a partir de la aplicación de herramientas, modelos analítico-predictivos y tecnologías innovadoras. Somos el área de la compañía que permite asumir riesgos y crecer a una alta velocidad.\n",
        "Dentro del equipo, debemos ser capaces de co-crear productos seguros y poner en acción el profundo conocimiento del ecosistema, para encontrar las debilidades y actuar proactivamente por medio de la tecnología, los procesos y las personas, con el fin de brindar una experiencia confiable que genere valor a quienes utilizan nuestros servicios.\n",
        "Tenemos un desafío para quienes:\n",
        "Vibran energía emprendedora: se mueven por la curiosidad, nunca se rinden y se enfocan en superar sus propios límites.\n",
        "Dan el máximo porque les gusta trabajar con compromiso y dedicación.\n",
        "Viven los cambios como oportunidades y aprenden de sus errores.\n",
        "La excelencia y la ejecución son claves en su forma de hacer las cosas.\n",
        "Promueven el buen clima, aportan alegría y diversión.\n",
        "Saben cómo construir con otras personas y disfrutan trabajando en equipo.\n",
        "Imaginate emprendiendo proyectos desafiantes, dinámicos e innovadores y siendo responsable de:\n",
        "Trabajar junto a los equipos de Machine Learning, Negocio y Producto, entre otros, con el objetivo de lograr sinerias con impacto positivo en el negocio, asegurando un excelente clima laboral.\n",
        "Analizar grandes volúmenes de datos a fin de obtener insights y tomar decisiones, en pos de reducir el riesgo de fraude y generar un impacto positivo en el negocio\n",
        "Realizar análisis a nivel transaccional, para entender patrones, generar cuantificaciones e implementar soluciones que mejoren la eficiencia de nuestras acciones.\n",
        "Detectar desvíos en KPIs, buscar la causa raíz del problema e implementar cambios que reviertan la tendencia.\n",
        "Colaborar con el resto de los equipos de Prevención de Fraude para crear y robustecer los scores transaccionales para minimizar la pérdida financiera de Mercado Libre o de sus usuarios.\n",
        "Requisitos:\n",
        "Tener formación avanzada (preferentemente finalizada) en Ingeniería, Economía, Ciencias Actuariales, o carreras afines.\n",
        "Poseer conocimiento en SQL y Excel.\n",
        "Contar con conocimientos en Python, u otras herramientas de explotación y análisis de datos, así como también nociones básicas del uso de herramientas de IA (Chat GPT, Gemini, Cursor, entre otras).\n",
        "Te proponemos:\n",
        "Ser parte de una compañía con espíritu emprendedor en la que nos encanta pensar en grande y a largo plazo.\n",
        "Ser protagonista de tu desarrollo en un ambiente de oportunidades, aprendizaje, crecimiento, expansión y proyectos desafiantes.\n",
        "Compartir y aprender en equipo junto a grandes profesionales y especialistas.\n",
        "Un excelente clima de trabajo, con todo lo necesario para que vivas una gran experiencia. :)\n",
        "\"\"\"\n",
        "\n",
        "# --- Parte C: Prompt de Estructuración ---\n",
        "prompt_estructurador = f\"\"\"\n",
        "Actúa como un analista de datos experto en Recursos Humanos. Tu tarea es tomar el siguiente texto de una descripción de puesto, que está desordenado y contiene información irrelevante, y estructurarlo de forma clara y concisa.\n",
        "Tu misión es extraer la información esencial y organizarla en las siguientes secciones:\n",
        "- Título del Puesto\n",
        "- Empresa\n",
        "- Área\n",
        "- Resumen del Rol\n",
        "- Perfil Buscado (Soft Skills)\n",
        "- Responsabilidades Clave\n",
        "- Requisitos Técnicos\n",
        "**Reglas de formato:**\n",
        "1.  Usa títulos en negrita para cada sección (ej. `**Título del Puesto:**`).\n",
        "2.  Usa listas con guiones (`- `) para los puntos dentro de las secciones de perfil, responsabilidades y requisitos.\n",
        "3.  Sé conciso y elimina información superflua como \"hace 3 días\", \"Promocionado por...\", \"¡Sumate a este propósito!\", o frases genéricas de marketing que no describan el rol o los requisitos.\n",
        "4.  Si no encuentras información para una sección específica, omítela del resultado final.\n",
        "Aquí está el texto en bruto para procesar:\n",
        "---\n",
        "{descripcion_puesto_bruta}\n",
        "---\n",
        "Devuelve únicamente el texto estructurado, sin añadir comentarios ni introducciones.\n",
        "\"\"\"\n",
        "\n",
        "# --- Parte D: Ejecución y Almacenamiento ---\n",
        "print(\"⚙️ Estructurando la descripción del puesto con Gemini...\")\n",
        "\n",
        "descripcion_puesto_estructurada = generar_contenido_con_gemini(prompt_estructurador)\n",
        "descripcion_puesto = descripcion_puesto_estructurada\n",
        "\n",
        "if descripcion_puesto:\n",
        "    print(\"\\n\\n--- DESCRIPCIÓN DEL PUESTO ESTRUCTURADA ---\")\n",
        "    print(\"Gemini ha limpiado y formateado la descripción del puesto. Este es el texto que se usará para la optimización:\")\n",
        "    print(\"--------------------------------------------------\")\n",
        "    print(descripcion_puesto)\n",
        "    print(\"--------------------------------------------------\")\n",
        "    print(\"\\n✅ Descripción del puesto estructurada y guardada. ¡Listos para la alquimia!\")\n",
        "else:\n",
        "    print(\"🚨 No se pudo estructurar la descripción del puesto. El proceso se detendrá.\")"
      ],
      "metadata": {
        "colab": {
          "base_uri": "https://localhost:8080/",
          "height": 749
        },
        "id": "2Kd-xeUZd3Aw",
        "outputId": "4bba8ca5-6a2c-4fc3-f649-936746039752"
      },
      "execution_count": null,
      "outputs": [
        {
          "output_type": "stream",
          "name": "stdout",
          "text": [
            "⚙️ Estructurando la descripción del puesto con Gemini...\n",
            "\n",
            "⏳ Enviando prompt a Gemini... (esto puede tardar unos segundos)\n",
            "✅ Respuesta recibida de Gemini.\n",
            "\n",
            "\n",
            "--- DESCRIPCIÓN DEL PUESTO ESTRUCTURADA ---\n",
            "Gemini ha limpiado y formateado la descripción del puesto. Este es el texto que se usará para la optimización:\n",
            "--------------------------------------------------\n",
            "**Título del Puesto:** Analista de Datos para Pagos Digitales\n",
            "\n",
            "**Empresa:** Mercado Libre\n",
            "\n",
            "**Área:** Prevención de Fraude\n",
            "\n",
            "**Resumen del Rol:** Analizar grandes volúmenes de datos para reducir el riesgo de fraude, generar insights, y mejorar la eficiencia de las acciones de la empresa. Colaborar con equipos de Machine Learning, Negocio y Producto.\n",
            "\n",
            "**Perfil Buscado (Soft Skills):**\n",
            "- Energía emprendedora\n",
            "- Compromiso y dedicación\n",
            "- Adaptabilidad al cambio\n",
            "- Orientación a la excelencia\n",
            "- Trabajo en equipo\n",
            "\n",
            "**Responsabilidades Clave:**\n",
            "- Analizar grandes volúmenes de datos para obtener insights y tomar decisiones que reduzcan el riesgo de fraude.\n",
            "- Realizar análisis transaccionales para identificar patrones, generar cuantificaciones e implementar soluciones.\n",
            "- Detectar desvíos en KPIs, investigar la causa raíz y  implementar soluciones.\n",
            "- Colaborar con equipos de Prevención de Fraude para crear y mejorar los scores transaccionales.\n",
            "- Trabajar con equipos de Machine Learning, Negocio y Producto para lograr sinergias.\n",
            "\n",
            "**Requisitos Técnicos:**\n",
            "- Formación avanzada (preferentemente finalizada) en Ingeniería, Economía, Ciencias Actuariales o carreras afines.\n",
            "- Conocimiento en SQL y Excel.\n",
            "- Conocimiento en Python u otras herramientas de explotación y análisis de datos.\n",
            "- Nociones básicas del uso de herramientas de IA (Chat GPT, Gemini, Cursor, entre otras).\n",
            "\n",
            "\n",
            "--------------------------------------------------\n",
            "\n",
            "✅ Descripción del puesto estructurada y guardada. ¡Listos para la alquimia!\n"
          ]
        }
      ]
    },
    {
      "cell_type": "markdown",
      "source": [
        "# 5- El Corazón del Alquimista - Prompts y Llamada a Gemini"
      ],
      "metadata": {
        "id": "xTB9MPMPvmMx"
      }
    },
    {
      "cell_type": "markdown",
      "source": [
        "Aquí es donde definimos nuestras \"recetas alquímicas\": los prompts. Creamos las instrucciones precisas para Gemini. También definimos una función que se encargará de enviar el prompt a la IA y devolvernos su respuesta."
      ],
      "metadata": {
        "id": "UL_g4gSKvqQK"
      }
    },
    {
      "cell_type": "code",
      "source": [
        "# --- PASO 4: INGENIERÍA DE PROMPTS PARA LA CREACIÓN DEL CV ---\n",
        "\n",
        "# Aquí nos centramos en crear las plantillas de los prompts que la usarán.\n",
        "\n",
        "# --- PROMPT 1: Creación del \"CV Maestro Actualizado\" ---\n",
        "prompt_actualizacion = f\"\"\"\n",
        "Actúa como un experto redactor de CVs y orientador profesional de alto nivel.\n",
        "Tu tarea es analizar dos documentos: el CV base de un candidato y el contenido de un nuevo programa de estudios que ha completado.\n",
        "Tu misión es crear una nueva versión del CV, un \"CV Maestro\", que integre de forma profesional y coherente la nueva formación.\n",
        "No te limites a añadir una nueva sección; si es necesario, reestructura el CV, mejora la redacción del resumen profesional para reflejar las nuevas habilidades y asegúrate de que el resultado sea un documento pulido, profesional y actualizado.\n",
        "A continuación, los documentos:\n",
        "--- INICIO DEL CV BASE ---\n",
        "{cv_base}\n",
        "--- FIN DEL CV BASE ---\n",
        "--- INICIO DEL PROGRAMA DE ESTUDIOS ---\n",
        "{nuevos_estudios}\n",
        "--- FIN DEL PROGRAMA DE ESTUDIOS ---\n",
        "Devuelve únicamente el texto completo del CV actualizado, sin incluir encabezados, introducciones o comentarios adicionales. El formato debe ser texto plano.\n",
        "\"\"\"\n",
        "\n",
        "# --- PROMPT 2: Creación del \"CV Optimizado para la Búsqueda\" ---\n",
        "# Este prompt se creará dinámicamente en la siguiente celda (Paso 5),\n",
        "# una vez que tengamos el resultado del primer prompt."
      ],
      "metadata": {
        "id": "UrdF_E5Nblzl"
      },
      "execution_count": null,
      "outputs": []
    },
    {
      "cell_type": "markdown",
      "source": [
        "# 6- Ejecución del Proceso y Obtención de Resultados\n"
      ],
      "metadata": {
        "id": "G_WfL6ySvyGc"
      }
    },
    {
      "cell_type": "markdown",
      "source": [
        "¡El gran final! Ejecutamos el flujo de trabajo. Primero, llamamos a Gemini con el primer prompt para obtener el CV Maestro. Luego, usamos ese resultado para construir el segundo prompt y volver a llamar a Gemini para obtener el CV final y optimizado. Los resultados se imprimirán en pantalla."
      ],
      "metadata": {
        "id": "Ksxs2qYrv0hD"
      }
    },
    {
      "cell_type": "code",
      "source": [
        "# --- PASO 5: EJECUCIÓN DEL PROCESO ALQUÍMICO ---\n",
        "\n",
        "# --- ETAPA 1: Generar el CV Maestro Actualizado ---\n",
        "print(\"**************************************************\")\n",
        "print(\"*     INICIANDO ETAPA 1: Creación del CV Maestro     *\")\n",
        "print(\"**************************************************\")\n",
        "\n",
        "cv_maestro_actualizado = generar_contenido_con_gemini(prompt_actualizacion)\n",
        "\n",
        "if cv_maestro_actualizado:\n",
        "    print(\"\\n\\n\\n--- SALIDA 1: CV MAESTRO ACTUALIZADO ---\")\n",
        "    print(\"Este es tu nuevo CV base, con tu formación más reciente integrada. Puedes guardarlo para futuras postulaciones.\")\n",
        "    print(\"--------------------------------------------------\")\n",
        "    print(cv_maestro_actualizado)\n",
        "    print(\"--------------------------------------------------\\n\\n\\n\")\n",
        "\n",
        "    # --- ETAPA 2: Generar el CV Optimizado para el Puesto ---\n",
        "    print(\"**************************************************\")\n",
        "    print(\"* INICIANDO ETAPA 2: Optimización para el Puesto *\")\n",
        "    print(\"**************************************************\")\n",
        "\n",
        "    # Construimos el segundo prompt AHORA, usando el resultado del primero.\n",
        "    prompt_optimizacion = f\"\"\"\n",
        "    Actúa como un 'Career Coach' y experto en reclutamiento técnico, especializado en optimizar CVs para pasar filtros ATS y destacar ante los managers de contratación.\n",
        "\n",
        "    Tu proceso de pensamiento debe ser el siguiente:\n",
        "    1.  **Análisis Comparativo del Candidato:** Primero, analiza detenidamente el 'CV Maestro' proporcionado. Identifica el nivel de seniority del candidato (Junior, Semi-Senior, Senior) en su campo principal. Luego, compáralo con la descripción del puesto. ¿El candidato está aplicando a un puesto en su mismo campo o está intentando una transición de carrera a un nuevo campo?\n",
        "    2.  **Identificación de la Estrategia:** Basado en tu análisis anterior, define la mejor estrategia.\n",
        "        *   **Si es una transición de carrera:** La estrategia es posicionar las habilidades del campo anterior como una base sólida y relevante, mientras se destacan las nuevas competencias (adquiridas por estudios o proyectos) para el nuevo campo. La honestidad sobre la falta de experiencia profesional *directa* en el nuevo rol es crucial.\n",
        "        *   **Si es en el mismo campo:** La estrategia es alinear directamente la experiencia pasada con los requisitos del puesto, utilizando las palabras clave y tecnologías de la oferta de trabajo.\n",
        "\n",
        "    **Tu Tarea Principal:**\n",
        "    Una vez completado tu análisis interno, transforma el 'CV Maestro' en una versión perfectamente alineada con la oferta de trabajo, aplicando la estrategia que identificaste.\n",
        "\n",
        "    **Reglas Críticas de Ejecución:**\n",
        "    - **No inventes experiencia:** Basa toda la información en los hechos presentes en el CV. No conviertas la formación académica o los proyectos personales en experiencia laboral profesional.\n",
        "    - **Sé preciso y honesto:** Refleja el nivel real de experiencia del candidato. El objetivo es reformular y destacar lo que ya existe para que sea más atractivo, no mentir.\n",
        "    - **Optimiza para ATS:** Integra de forma natural las palabras clave, tecnologías y habilidades (blandas y duras) de la descripción del puesto en el resumen profesional, las experiencias y la sección de habilidades.\n",
        "\n",
        "    Documentos para tu análisis:\n",
        "    --- INICIO DEL CV MAESTRO ---\n",
        "    {cv_maestro_actualizado}\n",
        "    --- FIN DEL CV MAESTRO ---\n",
        "\n",
        "    --- INICIO DE LA DESCRIPCIÓN DEL PUESTO ---\n",
        "    {descripcion_puesto}\n",
        "    --- FIN DE LA DESCRIPCIÓN DEL PUESTO ---\n",
        "\n",
        "    Devuelve como resultado final únicamente el texto del CV optimizado, listo para ser copiado y pegado en una plantilla de diseño. No incluyas comentarios, explicaciones ni encabezados.\n",
        "    \"\"\"\n",
        "\n",
        "    cv_final_optimizado = generar_contenido_con_gemini(prompt_optimizacion)\n",
        "\n",
        "    if cv_final_optimizado:\n",
        "        print(\"\\n\\n\\n--- SALIDA 2: CV FINAL OPTIMIZADO (¡LISTO PARA ENVIAR!) ---\")\n",
        "        print(\"¡Misión cumplida! Este es tu CV transformado y optimizado para la oferta de trabajo. Cópialo y pégalo en una plantilla de diseño profesional (como Canva) para darle el formato final.\")\n",
        "        print(\"==================================================\")\n",
        "        print(cv_final_optimizado)\n",
        "        print(\"==================================================\")\n",
        "else:\n",
        "    # Si la Etapa 1 falla, la variable 'cv_maestro_actualizado' estará vacía.\n",
        "    # Este bloque detiene el proceso para evitar errores y guía al usuario al diagnóstico ya impreso.\n",
        "    print(\"\\n🚨 No se pudo continuar a la Etapa 2 porque la Etapa 1 falló. Revisa el análisis del error detallado arriba para ver los siguientes pasos.\")"
      ],
      "metadata": {
        "colab": {
          "base_uri": "https://localhost:8080/",
          "height": 1000
        },
        "id": "gz_STnSB8IaC",
        "outputId": "9ba1014b-fc23-477d-9ae5-f6cc4fc8e8a5"
      },
      "execution_count": null,
      "outputs": [
        {
          "output_type": "stream",
          "name": "stdout",
          "text": [
            "**************************************************\n",
            "*     INICIANDO ETAPA 1: Creación del CV Maestro     *\n",
            "**************************************************\n",
            "\n",
            "⏳ Enviando prompt a Gemini... (esto puede tardar unos segundos)\n",
            "✅ Respuesta recibida de Gemini.\n",
            "\n",
            "\n",
            "\n",
            "--- SALIDA 1: CV MAESTRO ACTUALIZADO ---\n",
            "Este es tu nuevo CV base, con tu formación más reciente integrada. Puedes guardarlo para futuras postulaciones.\n",
            "--------------------------------------------------\n",
            "Vanesa Mizrahi\n",
            "vanesarmizrahi@gmail.com\n",
            "www.linkedin.com/in/vanesamizrahi\n",
            "\n",
            "**Resumen Profesional**\n",
            "\n",
            "Enthusiasta de la ciencia de datos con experiencia en desarrollo de software y análisis funcional, con un sólido background en auditoría y  profundos conocimientos en  análisis exploratorio de datos (EDA), visualización de datos y machine learning.  He completado recientemente una diplomatura en Data Science en Coderhouse y adquirido nuevas habilidades en el procesamiento de datos con Excel, incluyendo el uso de tablas dinámicas, funciones avanzadas y la creación de dashboards.  Poseo experiencia en la interacción con APIs (OpenAI),  ingeniería de prompts para la generación de código y la automatización de tareas, así como en la aplicación de técnicas de Deep Learning y NLP. Mi proyecto en Kaggle (https://www.kaggle.com/vanesamizrahi) demuestra mi capacidad para aplicar mis conocimientos en análisis predictivo a datos reales. Busco un puesto desafiante donde pueda contribuir con mi experiencia y habilidades en el campo de la ciencia de datos.\n",
            "\n",
            "**Habilidades Principales**\n",
            "\n",
            "* Data Science\n",
            "* Python\n",
            "* Data Analytics\n",
            "* SQL\n",
            "* Power BI\n",
            "* DAX\n",
            "* Lenguaje M\n",
            "* Power Query\n",
            "* Tableau\n",
            "* Looker Studio\n",
            "* Google Analytics 4\n",
            "* Machine Learning\n",
            "* Deep Learning\n",
            "* NLP\n",
            "* Ingeniería de Prompts\n",
            "* Amazon CodeWhisperer\n",
            "* OpenAI API\n",
            "* Git y GitHub\n",
            "* Metodologías Ágiles (Scrum)\n",
            "* Análisis Exploratorio de Datos (EDA)\n",
            "* Visualización de Datos\n",
            "* Storytelling con Datos\n",
            "* Desarrollo de Software (iOS, Android, Full Stack)\n",
            "* Análisis Funcional\n",
            "\n",
            "**Certificaciones**\n",
            "\n",
            "* Curso Profesional de Git y GitHub\n",
            "* Data Science I: Fundamentos para la Ciencia de Datos\n",
            "* Data Analytics\n",
            "* Curso de Python Intermedio\n",
            "* Curso Básico de Python\n",
            "* Procesamiento de datos en Excel (Coderhouse)\n",
            "* Inteligencia Artificial: Generación de Prompts (Coderhouse)\n",
            "* Prompt Engineering para Programadores (Coderhouse)\n",
            "* NLP & Deep Learning aplicado a Ciencia de Datos (Coderhouse)\n",
            "* Looker Studio con Google Analytics 4 (Coderhouse)\n",
            "* Tableau (Coderhouse)\n",
            "* Data Analytics (Coderhouse)\n",
            "* SQL (Coderhouse)\n",
            "* Power BI (Coderhouse)\n",
            "* Metodologías Ágiles (Scrum) (Coderhouse)\n",
            "* Python (Coderhouse)\n",
            "* Fundamentos para la Ciencia de Datos (Coderhouse)\n",
            "* Machine Learning para la Ciencia de Datos (Coderhouse)\n",
            "\n",
            "\n",
            "**Experiencia**\n",
            "\n",
            "* **Mercado Libre, Argentina**\n",
            "    * iOS Mobile Developer  | septiembre de 2021 - Presente (4 años)\n",
            "\n",
            "* **Ospoce, Argentina**\n",
            "    * Analista Funcional | FrontEnd Developer | mayo de 2019 - septiembre de 2021 (2 años 5 meses)\n",
            "\n",
            "* **Auditoria Administrativa de Prestaciones de Salud, Argentina**\n",
            "    * Auditoría Administrativa de Facturación por Nomenclador Nacional de Prestaciones Médicas en Prácticas Ambulatorias e Internaciones. Liderazgo de equipo. Confección de informes y estadísticas. Relevamiento de requerimientos, análisis, definición de procesos, interacción con el área de sistemas, participación en las implementaciones y capacitación del personal. | junio de 2006 - mayo de 2019 (13 años)\n",
            "\n",
            "\n",
            "**Educación**\n",
            "\n",
            "* **Coderhouse**\n",
            "    * Diplomatura, Data Science | agosto 2024 - diciembre 2025\n",
            "\n",
            "* **Digital House**\n",
            "    * Desarrollo Mobile iOS, Programación informática, aplicaciones específicas | 2018\n",
            "    * Desarrollo Mobile Android, Programación informática, aplicaciones específicas | 2017\n",
            "    * Desarrollo Web Full Stack, Programación informática, aplicaciones específicas | 2017\n",
            "\n",
            "* **Instituto de Tecnología ORT**\n",
            "    * Técnico en Química y Biotecnología con orientación en Genética Molecular, BIOTECNOLOGIA, MICROBIOLOGIA, BIOLOGIA | 2006 - 2008\n",
            "\n",
            "--------------------------------------------------\n",
            "\n",
            "\n",
            "\n",
            "**************************************************\n",
            "* INICIANDO ETAPA 2: Optimización para el Puesto *\n",
            "**************************************************\n",
            "\n",
            "⏳ Enviando prompt a Gemini... (esto puede tardar unos segundos)\n",
            "✅ Respuesta recibida de Gemini.\n",
            "\n",
            "\n",
            "\n",
            "--- SALIDA 2: CV FINAL OPTIMIZADO (¡LISTO PARA ENVIAR!) ---\n",
            "¡Misión cumplida! Este es tu CV transformado y optimizado para la oferta de trabajo. Cópialo y pégalo en una plantilla de diseño profesional (como Canva) para darle el formato final.\n",
            "==================================================\n",
            "Vanesa Mizrahi\n",
            "vanesarmizrahi@gmail.com\n",
            "www.linkedin.com/in/vanesamizrahi\n",
            "\n",
            "**Resumen Profesional**\n",
            "\n",
            "Analista de Datos con experiencia en desarrollo de software y análisis funcional, buscando contribuir a la prevención de fraude en Mercado Libre.  Mi sólida experiencia en auditoría, combinada con mi reciente diplomatura en Data Science (Coderhouse), me proporciona una base sólida en análisis de datos, incluyendo análisis exploratorio (EDA), visualización de datos y machine learning.  Poseo experiencia en el análisis transaccional, identificación de patrones y generación de insights accionables.  Mis habilidades en SQL, Python, Excel (incluyendo tablas dinámicas y dashboards),  y mi familiaridad con herramientas de IA como la API de OpenAI, me permiten procesar y analizar grandes volúmenes de datos para la detección de anomalías y la mejora de scores transaccionales.  Mi proyecto en Kaggle (https://www.kaggle.com/vanesamizrahi) demuestra mi capacidad para aplicar el análisis predictivo a datos reales.  Busco un rol desafiante donde pueda aplicar mis conocimientos y colaborar con equipos de Machine Learning, Negocio y Producto para reducir el riesgo de fraude y optimizar la eficiencia.\n",
            "\n",
            "**Habilidades Principales**\n",
            "\n",
            "* Análisis de Datos (EDA, KPIs)\n",
            "* SQL\n",
            "* Python\n",
            "* Excel (Tablas Dinámicas, Dashboards, Funciones Avanzadas)\n",
            "* Machine Learning\n",
            "* IA (OpenAI API, Ingeniería de Prompts)\n",
            "* Visualización de Datos (Power BI, Tableau, Looker Studio)\n",
            "* Análisis Transaccional\n",
            "* Detección de Fraude\n",
            "* Trabajo en Equipo\n",
            "* Adaptabilidad\n",
            "* Orientación a Resultados\n",
            "* Desarrollo de Software (iOS, Android, Full Stack)\n",
            "* Análisis Funcional\n",
            "* Metodologías Ágiles (Scrum)\n",
            "* Google Analytics 4\n",
            "* Power Query\n",
            "* DAX\n",
            "* Lenguaje M\n",
            "* Git y GitHub\n",
            "\n",
            "\n",
            "**Experiencia**\n",
            "\n",
            "* **Mercado Libre, Argentina**\n",
            "    * iOS Mobile Developer  | septiembre de 2021 - Presente (4 años)\n",
            "\n",
            "* **Ospoce, Argentina**\n",
            "    * Analista Funcional | FrontEnd Developer | mayo de 2019 - septiembre de 2021 (2 años 5 meses)\n",
            "\n",
            "* **Auditoria Administrativa de Prestaciones de Salud, Argentina**\n",
            "    * Auditoría Administrativa de Facturación por Nomenclador Nacional de Prestaciones Médicas en Prácticas Ambulatorias e Internaciones. Liderazgo de equipo. Confección de informes y estadísticas. Relevamiento de requerimientos, análisis, definición de procesos, interacción con el área de sistemas, participación en las implementaciones y capacitación del personal. | junio de 2006 - mayo de 2019 (13 años)\n",
            "\n",
            "\n",
            "**Educación**\n",
            "\n",
            "* **Coderhouse**\n",
            "    * Diplomatura, Data Science | agosto 2024 - diciembre 2025\n",
            "\n",
            "* **Digital House**\n",
            "    * Desarrollo Mobile iOS, Programación informática, aplicaciones específicas | 2018\n",
            "    * Desarrollo Mobile Android, Programación informática, aplicaciones específicas | 2017\n",
            "    * Desarrollo Web Full Stack, Programación informática, aplicaciones específicas | 2017\n",
            "\n",
            "* **Instituto de Tecnología ORT**\n",
            "    * Técnico en Química y Biotecnología con orientación en Genética Molecular, BIOTECNOLOGIA, MICROBIOLOGIA, BIOLOGIA | 2006 - 2008\n",
            "\n",
            "\n",
            "**Certificaciones**\n",
            "\n",
            "* Curso Profesional de Git y GitHub\n",
            "* Data Science I: Fundamentos para la Ciencia de Datos\n",
            "* Data Analytics\n",
            "* Curso de Python Intermedio\n",
            "* Curso Básico de Python\n",
            "* Procesamiento de datos en Excel (Coderhouse)\n",
            "* Inteligencia Artificial: Generación de Prompts (Coderhouse)\n",
            "* Prompt Engineering para Programadores (Coderhouse)\n",
            "* NLP & Deep Learning aplicado a Ciencia de Datos (Coderhouse)\n",
            "* Looker Studio con Google Analytics 4 (Coderhouse)\n",
            "* Tableau (Coderhouse)\n",
            "* Data Analytics (Coderhouse)\n",
            "* SQL (Coderhouse)\n",
            "* Power BI (Coderhouse)\n",
            "* Metodologías Ágiles (Scrum) (Coderhouse)\n",
            "* Python (Coderhouse)\n",
            "* Fundamentos para la Ciencia de Datos (Coderhouse)\n",
            "* Machine Learning para la Ciencia de Datos (Coderhouse)\n",
            "\n",
            "==================================================\n"
          ]
        }
      ]
    }
  ]
}